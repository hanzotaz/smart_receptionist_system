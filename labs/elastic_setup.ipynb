{
 "cells": [
  {
   "cell_type": "code",
   "execution_count": 1,
   "id": "cf0223a0-4da5-4e49-8e8c-38da8a9715c6",
   "metadata": {},
   "outputs": [],
   "source": [
    "import requests"
   ]
  },
  {
   "cell_type": "code",
   "execution_count": 2,
   "id": "e7e4238c-ba09-4689-8703-1dd8b51ba334",
   "metadata": {},
   "outputs": [
    {
     "data": {
      "text/plain": [
       "{'cluster_name': 'docker-cluster',\n",
       " 'status': 'yellow',\n",
       " 'timed_out': False,\n",
       " 'number_of_nodes': 1,\n",
       " 'number_of_data_nodes': 1,\n",
       " 'active_primary_shards': 3,\n",
       " 'active_shards': 3,\n",
       " 'relocating_shards': 0,\n",
       " 'initializing_shards': 0,\n",
       " 'unassigned_shards': 3,\n",
       " 'delayed_unassigned_shards': 0,\n",
       " 'number_of_pending_tasks': 0,\n",
       " 'number_of_in_flight_fetch': 0,\n",
       " 'task_max_waiting_in_queue_millis': 0,\n",
       " 'active_shards_percent_as_number': 50.0}"
      ]
     },
     "execution_count": 2,
     "metadata": {},
     "output_type": "execute_result"
    }
   ],
   "source": [
    "requests.get(\"http://localhost:9200/_cluster/health\").json()"
   ]
  },
  {
   "cell_type": "code",
   "execution_count": 5,
   "id": "ae3b2631-bf3b-4913-95db-f91e19a12ec0",
   "metadata": {},
   "outputs": [
    {
     "name": "stdout",
     "output_type": "stream",
     "text": [
      "yellow open bmth  Iknt7ImkQDuU76SYywbUMA 1 1 37 39 56.9kb 56.9kb\n",
      "yellow open unimy 2wG-zUvARg2d4UdL_s9aKQ 1 1 29 65 32.1kb 32.1kb\n",
      "yellow open label kaLM_xynTWGK7bH4CMsrnQ 1 1  0  0   283b   283b\n",
      "\n"
     ]
    }
   ],
   "source": [
    "print(requests.get('http://localhost:9200/_cat/indices').text)"
   ]
  },
  {
   "cell_type": "code",
   "execution_count": 14,
   "id": "0e9c7c28-8ba5-4954-a71c-7599778e862a",
   "metadata": {},
   "outputs": [],
   "source": [
    "from haystack.document_stores import ElasticsearchDocumentStore"
   ]
  },
  {
   "cell_type": "code",
   "execution_count": 15,
   "id": "d1da9095-e9e8-4c4b-b61d-d38651253fb6",
   "metadata": {},
   "outputs": [],
   "source": [
    "document_store = ElasticsearchDocumentStore(\n",
    "    host='localhost',\n",
    "    username='', password='',\n",
    "    index='unimy'\n",
    ")"
   ]
  },
  {
   "cell_type": "code",
   "execution_count": 16,
   "id": "fcc5c82c-5406-4aea-b01a-88652a4ca21d",
   "metadata": {},
   "outputs": [],
   "source": [
    "with open('../data/unimy.txt', 'r') as f:\n",
    "    data = f.read()"
   ]
  },
  {
   "cell_type": "code",
   "execution_count": 17,
   "id": "59c48821-1d75-4e78-bac8-008d293442ca",
   "metadata": {},
   "outputs": [
    {
     "data": {
      "text/plain": [
       "'University Malaysia of Computer Science & Engineering (UNIMY) is an independent private university l'"
      ]
     },
     "execution_count": 17,
     "metadata": {},
     "output_type": "execute_result"
    }
   ],
   "source": [
    "data[:100]"
   ]
  },
  {
   "cell_type": "code",
   "execution_count": 18,
   "id": "9577957d-eb02-4974-b4f6-8d32f8d9bb68",
   "metadata": {},
   "outputs": [],
   "source": [
    "data = data.split('\\n')"
   ]
  },
  {
   "cell_type": "code",
   "execution_count": 19,
   "id": "65ecba1b-a6cd-4117-9845-f9405968aefe",
   "metadata": {},
   "outputs": [
    {
     "data": {
      "text/plain": [
       "46"
      ]
     },
     "execution_count": 19,
     "metadata": {},
     "output_type": "execute_result"
    }
   ],
   "source": [
    "len(data)"
   ]
  },
  {
   "cell_type": "code",
   "execution_count": 20,
   "id": "e2bca436-9967-4632-9461-adc61fd4865d",
   "metadata": {},
   "outputs": [],
   "source": [
    "data_json = [\n",
    "    {\n",
    "        'content': paragraph,\n",
    "        'meta': {\n",
    "            'name': 'unimy'\n",
    "        }\n",
    "    } for paragraph in data\n",
    "]"
   ]
  },
  {
   "cell_type": "code",
   "execution_count": 21,
   "id": "cc377e5c-2e0e-4d10-99cd-5900bfd96586",
   "metadata": {},
   "outputs": [
    {
     "data": {
      "text/plain": [
       "46"
      ]
     },
     "execution_count": 21,
     "metadata": {},
     "output_type": "execute_result"
    }
   ],
   "source": [
    "len(data_json)"
   ]
  },
  {
   "cell_type": "code",
   "execution_count": 22,
   "id": "b70f7cc9-a724-49cb-844f-603c7d136baa",
   "metadata": {},
   "outputs": [],
   "source": [
    "document_store.write_documents(data_json)"
   ]
  },
  {
   "cell_type": "code",
   "execution_count": 23,
   "id": "778c5869-6f82-42d3-bf98-56eab152d050",
   "metadata": {},
   "outputs": [
    {
     "data": {
      "text/plain": [
       "{'count': 34,\n",
       " '_shards': {'total': 1, 'successful': 1, 'skipped': 0, 'failed': 0}}"
      ]
     },
     "execution_count": 23,
     "metadata": {},
     "output_type": "execute_result"
    }
   ],
   "source": [
    "requests.get('http://localhost:9200/unimy/_count').json()"
   ]
  },
  {
   "cell_type": "code",
   "execution_count": null,
   "id": "881d073f-7307-41a0-8c2d-66667970c51b",
   "metadata": {},
   "outputs": [],
   "source": []
  }
 ],
 "metadata": {
  "kernelspec": {
   "display_name": "Python 3.9.13 64-bit",
   "language": "python",
   "name": "python3"
  },
  "language_info": {
   "codemirror_mode": {
    "name": "ipython",
    "version": 3
   },
   "file_extension": ".py",
   "mimetype": "text/x-python",
   "name": "python",
   "nbconvert_exporter": "python",
   "pygments_lexer": "ipython3",
   "version": "3.9.13 (tags/v3.9.13:6de2ca5, May 17 2022, 16:36:42) [MSC v.1929 64 bit (AMD64)]"
  },
  "vscode": {
   "interpreter": {
    "hash": "32be91d9aeac79ce6373f595b13a824f4b1597642f58d69d8490df4c99154907"
   }
  }
 },
 "nbformat": 4,
 "nbformat_minor": 5
}
