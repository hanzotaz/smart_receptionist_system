{
 "cells": [
  {
   "cell_type": "code",
   "execution_count": 1,
   "id": "f06e0d97-e6ce-4d6c-994b-f9b0187a8dcd",
   "metadata": {},
   "outputs": [],
   "source": [
    "from haystack.nodes import BM25Retriever"
   ]
  },
  {
   "cell_type": "code",
   "execution_count": 2,
   "id": "13c8e68a-8609-4aa5-bd52-41be1abeb745",
   "metadata": {},
   "outputs": [],
   "source": [
    "from haystack.document_stores.elasticsearch import ElasticsearchDocumentStore"
   ]
  },
  {
   "cell_type": "code",
   "execution_count": 3,
   "id": "1b8fc626-4fe0-40af-a074-9055cff63448",
   "metadata": {},
   "outputs": [],
   "source": [
    "doc_store = ElasticsearchDocumentStore(\n",
    "    host='localhost',\n",
    "    username='', password='',\n",
    "    index='aurelius'\n",
    ")"
   ]
  },
  {
   "cell_type": "code",
   "execution_count": 4,
   "id": "988846b0-51ef-4e07-bb70-ce5e7fac247d",
   "metadata": {},
   "outputs": [],
   "source": [
    "retriever = BM25Retriever(document_store=doc_store)"
   ]
  },
  {
   "cell_type": "code",
   "execution_count": 5,
   "id": "2cdb42bc-8bb1-4036-a6bb-700354db89b5",
   "metadata": {},
   "outputs": [],
   "source": [
    "from haystack.nodes import TransformersReader"
   ]
  },
  {
   "cell_type": "code",
   "execution_count": 6,
   "id": "53ca0231-b9c0-461e-86a9-58025cceabcb",
   "metadata": {},
   "outputs": [],
   "source": [
    "from haystack.pipelines import ExtractiveQAPipeline"
   ]
  },
  {
   "cell_type": "code",
   "execution_count": 7,
   "id": "db238a11-93ad-4b55-a8a9-6a5762d1c288",
   "metadata": {},
   "outputs": [],
   "source": [
    "reader = TransformersReader(model_name_or_path=\"distilbert-base-uncased-distilled-squad\", tokenizer=\"distilbert-base-uncased\", use_gpu=-1)"
   ]
  },
  {
   "cell_type": "code",
   "execution_count": 8,
   "id": "7b53a416-b891-4da6-8682-85078be63c6b",
   "metadata": {},
   "outputs": [],
   "source": [
    "pipe = ExtractiveQAPipeline(reader, retriever)"
   ]
  },
  {
   "cell_type": "code",
   "execution_count": 13,
   "id": "8c113e50-76f7-465a-9a96-ef828f3130f0",
   "metadata": {},
   "outputs": [],
   "source": [
    "prediction = pipe.run(\n",
    "    query=\"What did I learned from Maximus?\", params={\"Retriever\": {\"top_k\": 10}, \"Reader\": {\"top_k\": 5}}\n",
    ")"
   ]
  },
  {
   "cell_type": "code",
   "execution_count": 14,
   "id": "1ecb4ef5-9c05-4a6f-a591-323e76b043d0",
   "metadata": {},
   "outputs": [
    {
     "name": "stdout",
     "output_type": "stream",
     "text": [
      "{'query': 'What did I learned from Maximus?', 'answers': [<Answer {'answer': 'self-government', 'type': 'extractive', 'score': 0.9857429265975952, 'context': 'From Maximus I learned self-government, and not to be led aside by', 'offsets_in_document': [{'start': 23, 'end': 38}], 'offsets_in_context': [{'start': 23, 'end': 38}], 'document_id': 'a6ff1ae4e2c0a6e79dac76d2347f209b', 'meta': {'__pydantic_initialised__': True, 'name': 'meditations'}}>, <Answer {'answer': 'good morals and the government', 'type': 'extractive', 'score': 0.8660645484924316, 'context': 'From my grandfather Verus I learned good morals and the government', 'offsets_in_document': [{'start': 36, 'end': 66}], 'offsets_in_context': [{'start': 36, 'end': 66}], 'document_id': 'c595d2780a806316f2e78e6033bf46fe', 'meta': {'__pydantic_initialised__': True, 'name': 'meditations'}}>, <Answer {'answer': 'how to receive from friends what are esteemed', 'type': 'extractive', 'score': 0.7657966613769531, 'context': 'and from him I learned how to receive from friends what are esteemed', 'offsets_in_document': [{'start': 23, 'end': 68}], 'offsets_in_context': [{'start': 23, 'end': 68}], 'document_id': '4c75b5b2722479d2585fa241377956e8', 'meta': {'__pydantic_initialised__': True, 'name': 'meditations'}}>, <Answer {'answer': 'consistency and undeviating steadiness', 'type': 'extractive', 'score': 0.7242954969406128, 'context': 'I learned from him also consistency and undeviating steadiness in', 'offsets_in_document': [{'start': 24, 'end': 62}], 'offsets_in_context': [{'start': 24, 'end': 62}], 'document_id': 'c88463d3c18f26e5cc04e28ce136ea17', 'meta': {'__pydantic_initialised__': True, 'name': 'meditations'}}>, <Answer {'answer': 'not to be led astray', 'type': 'extractive', 'score': 0.6299547553062439, 'context': 'improvement and discipline; and from him I learned not to be led astray', 'offsets_in_document': [{'start': 51, 'end': 71}], 'offsets_in_context': [{'start': 51, 'end': 71}], 'document_id': 'c2753513113db976b92a27fce1f3e36a', 'meta': {'__pydantic_initialised__': True, 'name': 'meditations'}}>], 'documents': [<Document: {'content': 'From Maximus I learned self-government, and not to be led aside by', 'content_type': 'text', 'score': 0.8992241982655192, 'meta': {'__pydantic_initialised__': True, 'name': 'meditations'}, 'embedding': None, 'id': 'a6ff1ae4e2c0a6e79dac76d2347f209b', '__pydantic_initialised__': True}>, <Document: {'content': 'and from him I learned how to receive from friends what are esteemed', 'content_type': 'text', 'score': 0.8580312125086316, 'meta': {'__pydantic_initialised__': True, 'name': 'meditations'}, 'embedding': None, 'id': '4c75b5b2722479d2585fa241377956e8', '__pydantic_initialised__': True}>, <Document: {'content': 'From Fronto I learned to observe what envy, and duplicity, and hypocrisy', 'content_type': 'text', 'score': 0.8497442079140174, 'meta': {'__pydantic_initialised__': True, 'name': 'meditations'}, 'embedding': None, 'id': 'ba56c3ce3f40c48ffefb49dedfe362da', '__pydantic_initialised__': True}>, <Document: {'content': 'From Apollonius I learned freedom of will and undeviating steadiness', 'content_type': 'text', 'score': 0.8217994630724531, 'meta': {'__pydantic_initialised__': True, 'name': 'meditations'}, 'embedding': None, 'id': '4caa677d97e1905f3281fbdeed8dcd79', '__pydantic_initialised__': True}>, <Document: {'content': 'I learned from him also consistency and undeviating steadiness in', 'content_type': 'text', 'score': 0.8217994630724531, 'meta': {'__pydantic_initialised__': True, 'name': 'meditations'}, 'embedding': None, 'id': 'c88463d3c18f26e5cc04e28ce136ea17', '__pydantic_initialised__': True}>, <Document: {'content': 'From my grandfather Verus I learned good morals and the government', 'content_type': 'text', 'score': 0.813743943357563, 'meta': {'__pydantic_initialised__': True, 'name': 'meditations'}, 'embedding': None, 'id': 'c595d2780a806316f2e78e6033bf46fe', '__pydantic_initialised__': True}>, <Document: {'content': \"or the Scutarius at the gladiators' fights; from him too I learned\", 'content_type': 'text', 'score': 0.8059887578153969, 'meta': {'__pydantic_initialised__': True, 'name': 'meditations'}, 'embedding': None, 'id': '2489369f077dab2b9fb58f71de3f2bde', '__pydantic_initialised__': True}>, <Document: {'content': 'improvement and discipline; and from him I learned not to be led astray', 'content_type': 'text', 'score': 0.7985266837689269, 'meta': {'__pydantic_initialised__': True, 'name': 'meditations'}, 'embedding': None, 'id': 'c2753513113db976b92a27fce1f3e36a', '__pydantic_initialised__': True}>, <Document: {'content': 'Maximus; that I received clear and frequent impressions about living', 'content_type': 'text', 'score': 0.7869157289260401, 'meta': {'__pydantic_initialised__': True, 'name': 'meditations'}, 'embedding': None, 'id': '34532d29b28d4839c3aac7710cc07a82', '__pydantic_initialised__': True}>, <Document: {'content': 'I did not fall into the hands of any sophist, and that I did not waste', 'content_type': 'text', 'score': 0.7862675071928439, 'meta': {'__pydantic_initialised__': True, 'name': 'meditations'}, 'embedding': None, 'id': '8881c19783f1bad06994218cbf81bf2e', '__pydantic_initialised__': True}>], 'root_node': 'Query', 'params': {'Retriever': {'top_k': 10}, 'Reader': {'top_k': 5}}, 'node_id': 'Reader'}\n"
     ]
    }
   ],
   "source": [
    "print(prediction)"
   ]
  },
  {
   "cell_type": "code",
   "execution_count": 11,
   "id": "bfc9f090-cbdc-4d25-8fe1-8adceabae4db",
   "metadata": {},
   "outputs": [],
   "source": [
    "from haystack.utils import print_answers"
   ]
  },
  {
   "cell_type": "code",
   "execution_count": 15,
   "id": "6413ebe5-b6b5-4e5b-a105-851e548bee73",
   "metadata": {},
   "outputs": [
    {
     "name": "stdout",
     "output_type": "stream",
     "text": [
      "\n",
      "Query: What did I learned from Maximus?\n",
      "Answers:\n",
      "[   {   'answer': 'self-government',\n",
      "        'context': 'From Maximus I learned self-government, and not to be led '\n",
      "                   'aside by'},\n",
      "    {   'answer': 'good morals and the government',\n",
      "        'context': 'From my grandfather Verus I learned good morals and the '\n",
      "                   'government'},\n",
      "    {   'answer': 'how to receive from friends what are esteemed',\n",
      "        'context': 'and from him I learned how to receive from friends what '\n",
      "                   'are esteemed'},\n",
      "    {   'answer': 'consistency and undeviating steadiness',\n",
      "        'context': 'I learned from him also consistency and undeviating '\n",
      "                   'steadiness in'},\n",
      "    {   'answer': 'not to be led astray',\n",
      "        'context': 'improvement and discipline; and from him I learned not to '\n",
      "                   'be led astray'}]\n"
     ]
    }
   ],
   "source": [
    "print_answers(prediction, details=\"minimum\")"
   ]
  },
  {
   "cell_type": "code",
   "execution_count": null,
   "id": "435cef3e-4980-4b70-948e-4ce7363484ac",
   "metadata": {},
   "outputs": [],
   "source": []
  }
 ],
 "metadata": {
  "kernelspec": {
   "display_name": "Python 3 (ipykernel)",
   "language": "python",
   "name": "python3"
  },
  "language_info": {
   "codemirror_mode": {
    "name": "ipython",
    "version": 3
   },
   "file_extension": ".py",
   "mimetype": "text/x-python",
   "name": "python",
   "nbconvert_exporter": "python",
   "pygments_lexer": "ipython3",
   "version": "3.9.13"
  }
 },
 "nbformat": 4,
 "nbformat_minor": 5
}
